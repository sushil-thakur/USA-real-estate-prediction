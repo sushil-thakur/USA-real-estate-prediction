{
  "nbformat": 4,
  "nbformat_minor": 0,
  "metadata": {
    "colab": {
      "provenance": []
    },
    "kernelspec": {
      "name": "python3",
      "display_name": "Python 3"
    },
    "language_info": {
      "name": "python"
    }
  },
  "cells": [
    {
      "cell_type": "code",
      "execution_count": null,
      "metadata": {
        "id": "IMMziSA_wYnY"
      },
      "outputs": [],
      "source": [
        "import pandas as pd\n",
        "import numpy as np\n",
        "from sklearn.model_selection import train_test_split, GridSearchCV\n",
        "from xgboost import XGBRegressor\n",
        "from sklearn.preprocessing import LabelEncoder\n",
        "from sklearn.metrics import mean_squared_error, r2_score, mean_absolute_error\n",
        "import datetime\n",
        "import joblib\n",
        "\n",
        "# Load your dataset (replace with your actual file path)\n",
        "data = pd.read_csv('/content/realtor-data.zip.csv')  # Update this path!"
      ]
    },
    {
      "cell_type": "code",
      "source": [
        "# Define columns\n",
        "columns = ['price', 'bed', 'bath', 'acre_lot', 'street', 'city', 'state', 'zip_code', 'house_size', 'prev_sold_date']\n",
        "data = data[columns]\n",
        "\n",
        "# Data Preprocessing\n",
        "data['prev_sold_date'] = pd.to_datetime(data['prev_sold_date'], errors='coerce')\n",
        "data['sold_year'] = data['prev_sold_date'].dt.year.fillna(0).astype(int)\n",
        "data = data.dropna(subset=['price'])\n",
        "\n",
        "# Encode categorical variables\n",
        "label_encoders = {}\n",
        "for col in ['street', 'city', 'state', 'zip_code']:\n",
        "    le = LabelEncoder()\n",
        "    data[col] = data[col].fillna('Unknown').astype(str)\n",
        "    data[col] = le.fit_transform(data[col])\n",
        "    label_encoders[col] = le"
      ],
      "metadata": {
        "id": "cTHF3rf0w5q7"
      },
      "execution_count": null,
      "outputs": []
    },
    {
      "cell_type": "code",
      "source": [
        "# Handle missing numerical values\n",
        "data['bed'] = data['bed'].fillna(data['bed'].median())\n",
        "data['bath'] = data['bath'].fillna(data['bath'].median())\n",
        "data['acre_lot'] = data['acre_lot'].fillna(data['acre_lot'].median())\n",
        "data['house_size'] = data['house_size'].fillna(data['house_size'].median())\n",
        "\n",
        "# Features and target\n",
        "X = data.drop(columns=['price', 'prev_sold_date'])\n",
        "y = data['price']"
      ],
      "metadata": {
        "id": "Qe8pM4zkw90F"
      },
      "execution_count": null,
      "outputs": []
    },
    {
      "cell_type": "code",
      "source": [
        "# Split data\n",
        "X_train, X_test, y_train, y_test = train_test_split(X, y, test_size=0.2, random_state=42)\n",
        "\n",
        "# Define XGBoost model\n",
        "xgb_model = XGBRegressor(objective='reg:squarederror', random_state=42)\n",
        "\n",
        "# Hyperparameter tuning\n",
        "param_grid = {\n",
        "    'n_estimators': [100, 200],\n",
        "    'max_depth': [3, 5, 7],\n",
        "    'learning_rate': [0.01, 0.1],\n",
        "    'subsample': [0.8, 1.0],\n",
        "    'colsample_bytree': [0.8, 1.0]\n",
        "}\n",
        "grid_search = GridSearchCV(estimator=xgb_model, param_grid=param_grid,\n",
        "                           cv=3, scoring='neg_mean_squared_error', n_jobs=-1, verbose=1)\n",
        "grid_search.fit(X_train, y_train)\n",
        "\n",
        "# Best model\n",
        "best_model = grid_search.best_estimator_\n",
        "print(f\"Best parameters: {grid_search.best_params_}\")"
      ],
      "metadata": {
        "id": "8fVYttrdxDVd",
        "colab": {
          "base_uri": "https://localhost:8080/"
        },
        "outputId": "f0a16819-8d1e-43e1-a1bb-53226a25f307"
      },
      "execution_count": null,
      "outputs": [
        {
          "output_type": "stream",
          "name": "stdout",
          "text": [
            "Fitting 3 folds for each of 48 candidates, totalling 144 fits\n",
            "Best parameters: {'colsample_bytree': 0.8, 'learning_rate': 0.01, 'max_depth': 7, 'n_estimators': 100, 'subsample': 1.0}\n"
          ]
        }
      ]
    },
    {
      "cell_type": "code",
      "source": [
        "# Evaluate\n",
        "y_pred = best_model.predict(X_test)\n",
        "rmse = np.sqrt(mean_squared_error(y_test, y_pred))\n",
        "print(f\"Root Mean Squared Error: {rmse}\")\n",
        "print(f\"R² Score: {r2_score(y_test, y_pred):.4f}\")\n",
        "print(f\"Mean Absolute Error: {mean_absolute_error(y_test, y_pred):,.2f}\")\n",
        "\n",
        "# Feature importance\n",
        "for feature, importance in zip(X.columns, best_model.feature_importances_):\n",
        "    print(f\"{feature}: {importance:.4f}\")\n",
        "\n",
        "# Predict current and future prices\n",
        "current_date = datetime.datetime.now().year  # 2025\n",
        "future_data = X_test.copy()\n",
        "current_predictions = best_model.predict(future_data)\n",
        "print(f\"Average predicted price for 2025: ${np.mean(current_predictions):,.2f}\")\n",
        "future_data['sold_year'] = future_data['sold_year'].apply(lambda x: 2030 if x > 0 else x)\n",
        "future_predictions = best_model.predict(future_data)\n",
        "print(f\"Average predicted price for 2030: ${np.mean(future_predictions):,.2f}\")"
      ],
      "metadata": {
        "id": "XBqPxAuNxEYM",
        "colab": {
          "base_uri": "https://localhost:8080/"
        },
        "outputId": "c8c3acb6-1ff3-493b-ba79-91f2ec39a75a"
      },
      "execution_count": null,
      "outputs": [
        {
          "output_type": "stream",
          "name": "stdout",
          "text": [
            "Root Mean Squared Error: 1114254.0283854913\n",
            "R² Score: 0.3547\n",
            "Mean Absolute Error: 328,482.19\n",
            "bed: 0.1124\n",
            "bath: 0.0414\n",
            "acre_lot: 0.0093\n",
            "street: 0.0570\n",
            "city: 0.0208\n",
            "state: 0.7212\n",
            "zip_code: 0.0126\n",
            "house_size: 0.0238\n",
            "sold_year: 0.0016\n",
            "Average predicted price for 2025: $565,203.38\n",
            "Average predicted price for 2030: $565,198.19\n"
          ]
        }
      ]
    },
    {
      "cell_type": "code",
      "source": [
        "# Save model and label encoders\n",
        "joblib.dump(best_model, 'real_estate_price_xgb_model.pkl')\n",
        "for col, le in label_encoders.items():\n",
        "    joblib.dump(le, f'{col}_label_encoder.pkl')"
      ],
      "metadata": {
        "id": "IKycCnG8xHyV"
      },
      "execution_count": null,
      "outputs": []
    }
  ]
}